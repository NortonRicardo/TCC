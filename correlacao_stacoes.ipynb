{
 "cells": [
  {
   "cell_type": "code",
   "execution_count": 4,
   "metadata": {},
   "outputs": [],
   "source": [
    "import pandas as pd\n",
    "import numpy as np\n",
    "import seaborn as sns\n",
    "import matplotlib.pyplot as plt\n",
    "import geopandas as gpd\n",
    "from geopy.distance import geodesic\n",
    "import os"
   ]
  },
  {
   "cell_type": "code",
   "execution_count": 59,
   "metadata": {},
   "outputs": [],
   "source": [
    "# Defina o diretório onde os arquivos estão localizados\n",
    "\n",
    "# tipo_dado = 'Diario'\n",
    "# tipo_dado = 'Mensal'\n",
    "tipo_dado = 'Anual'\n",
    "\n",
    "diretorio = './base/GO/' + tipo_dado\n",
    "\n",
    "# Carrega o DataFrame das distâncias uma vez, pois ele será utilizado várias vezes\n",
    "df_distancia = pd.read_csv('./results/dist_estacoes.csv')\n",
    "\n",
    "# Lista de arquivos para processar\n",
    "arquivos = ['chuva.csv', 'ponto_orvalho.csv', 'pressao.csv', 'radiacao.csv', 'temperatura.csv', 'umidade.csv', 'vento_direcao.csv', 'vento_velocidade.csv']\n"
   ]
  },
  {
   "cell_type": "code",
   "execution_count": 60,
   "metadata": {},
   "outputs": [
    {
     "name": "stdout",
     "output_type": "stream",
     "text": [
      "./base/GO/Anual/chuva.csv\n",
      "./base/GO/Anual/ponto_orvalho.csv\n",
      "./base/GO/Anual/pressao.csv\n",
      "./base/GO/Anual/radiacao.csv\n",
      "./base/GO/Anual/temperatura.csv\n",
      "./base/GO/Anual/umidade.csv\n",
      "./base/GO/Anual/vento_direcao.csv\n",
      "./base/GO/Anual/vento_velocidade.csv\n"
     ]
    }
   ],
   "source": [
    "for arquivo in arquivos:\n",
    "    caminho_completo = os.path.join(diretorio, arquivo)\n",
    "    \n",
    "    # Extrair o nome da variável do nome do arquivo\n",
    "    nome_variavel = arquivo.split('.')[0]  # Remove a extensão .csv\n",
    "    \n",
    "\n",
    "    print(caminho_completo)\n",
    "    # Carregar o DataFrame a partir do arquivo\n",
    "    df = pd.read_csv(caminho_completo)\n",
    "\n",
    "    \n",
    "    # Converter 'hr_medicao' para datetime e definir como índice do DataFrame, se aplicável\n",
    "    if 'hr_medicao' in df.columns:\n",
    "        df['hr_medicao'] = pd.to_datetime(df['hr_medicao'])\n",
    "        df_pivoted = df.pivot_table(index='hr_medicao', columns='cdg_stacao', values=nome_variavel, aggfunc='mean')\n",
    "        df_pivoted_not_null = df_pivoted.dropna()\n",
    "        \n",
    "    \n",
    "    # Aqui você precisaria calcular df_correlacao para cada tipo de dado\n",
    "    df_correlacao = df_pivoted_not_null.corr()\n",
    "    # Suponha que df_correlacao já está calculado para este exemplo\n",
    "    # Código para construir 'anotacoes' e criar o heatmap, assegurando que 'anotacoes' esteja definido\n",
    "\n",
    "    # Cria um DataFrame para armazenar os textos de anotação que incluirão correlação e distância\n",
    "    anotacoes = pd.DataFrame(index=df_correlacao.index, columns=df_correlacao.columns, dtype='object')\n",
    "\n",
    "    for origem in df_correlacao.index:\n",
    "        for destino in df_correlacao.columns:\n",
    "            correlacao = df_correlacao.loc[origem, destino]\n",
    "            # Buscar a distância correspondente\n",
    "            distancia = df_distancia[(df_distancia['cdg_estacao_origem'] == origem) & (df_distancia['cdg_estacao_destino'] == destino)]['distancia_km'].values\n",
    "            \n",
    "            if distancia.size > 0:  # Se encontrou a distância\n",
    "                texto_anotacao = f\"{correlacao:.2f}\\n{distancia[0]:.2f}km\"\n",
    "            else:\n",
    "                texto_anotacao = f\"{correlacao:.2f}\\nN/A\"\n",
    "            anotacoes.loc[origem, destino] = texto_anotacao\n",
    "    \n",
    "    # Note que o título e o arquivo de saída devem refletir o tipo de dado sendo processado\n",
    "    plt.figure(figsize=(10, 8))\n",
    "    sns.heatmap(df_correlacao, annot=anotacoes.values, fmt=\"\", cmap='coolwarm', vmin=-1, vmax=1)\n",
    "    plt.title(f'Correlação {nome_variavel.capitalize()} entre estações')\n",
    "    plt.savefig(f'./results/img/estacoes_correlacao/{tipo_dado}/Correção_{nome_variavel}.png')\n",
    "    plt.close()  # Fecha a figura atual para que a próxima possa ser criada sem interferência"
   ]
  }
 ],
 "metadata": {
  "kernelspec": {
   "display_name": "TCC-main--3OiG4ou",
   "language": "python",
   "name": "python3"
  },
  "language_info": {
   "codemirror_mode": {
    "name": "ipython",
    "version": 3
   },
   "file_extension": ".py",
   "mimetype": "text/x-python",
   "name": "python",
   "nbconvert_exporter": "python",
   "pygments_lexer": "ipython3",
   "version": "3.12.1"
  }
 },
 "nbformat": 4,
 "nbformat_minor": 2
}
